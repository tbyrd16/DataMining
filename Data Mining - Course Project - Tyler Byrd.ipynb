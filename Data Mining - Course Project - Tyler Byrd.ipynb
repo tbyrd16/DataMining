{
 "cells": [
  {
   "cell_type": "markdown",
   "id": "abdd36c4",
   "metadata": {},
   "source": [
    "## Project Description"
   ]
  },
  {
   "cell_type": "markdown",
   "id": "099758ce",
   "metadata": {},
   "source": [
    "The goal of this notebook is to build a Naive Bayes classifier to predict whether a song is happy or sad."
   ]
  },
  {
   "cell_type": "code",
   "execution_count": 146,
   "id": "943851de",
   "metadata": {},
   "outputs": [
    {
     "name": "stderr",
     "output_type": "stream",
     "text": [
      "C:\\Users\\tibyr\\AppData\\Local\\Temp/ipykernel_7208/2393949790.py:7: FutureWarning: pandas.Int64Index is deprecated and will be removed from pandas in a future version. Use pandas.Index with the appropriate dtype instead.\n",
      "  from pandas import Int64Index\n"
     ]
    }
   ],
   "source": [
    "import numpy as np\n",
    "import pandas as pd\n",
    "import matplotlib.pyplot as plt\n",
    "from matplotlib.pyplot import subplots\n",
    "import math\n",
    "from scipy import stats\n",
    "from pandas import Int64Index\n",
    "import random\n",
    "import statsmodels.api as sm\n",
    "import statsmodels.formula.api as smf\n",
    "from scipy.stats import multivariate_normal\n",
    "from sklearn.model_selection import train_test_split\n",
    "import sklearn.naive_bayes\n",
    "import seaborn as sns\n",
    "from sklearn.preprocessing import RobustScaler\n",
    "from sklearn.preprocessing import MinMaxScaler\n",
    "from sklearn.metrics import accuracy_score\n",
    "from sklearn.metrics import confusion_matrix\n",
    "from sklearn.metrics import classification_report\n",
    "from sklearn.model_selection import cross_val_score\n"
   ]
  },
  {
   "cell_type": "markdown",
   "id": "c10241ea",
   "metadata": {},
   "source": [
    "## Import data"
   ]
  },
  {
   "cell_type": "code",
   "execution_count": 147,
   "id": "91192011",
   "metadata": {},
   "outputs": [],
   "source": [
    "random.seed(1026)"
   ]
  },
  {
   "cell_type": "code",
   "execution_count": 148,
   "id": "04aa507b",
   "metadata": {},
   "outputs": [
    {
     "data": {
      "text/html": [
       "<div>\n",
       "<style scoped>\n",
       "    .dataframe tbody tr th:only-of-type {\n",
       "        vertical-align: middle;\n",
       "    }\n",
       "\n",
       "    .dataframe tbody tr th {\n",
       "        vertical-align: top;\n",
       "    }\n",
       "\n",
       "    .dataframe thead th {\n",
       "        text-align: right;\n",
       "    }\n",
       "</style>\n",
       "<table border=\"1\" class=\"dataframe\">\n",
       "  <thead>\n",
       "    <tr style=\"text-align: right;\">\n",
       "      <th></th>\n",
       "      <th>Unnamed: 0</th>\n",
       "      <th>duration (ms)</th>\n",
       "      <th>danceability</th>\n",
       "      <th>energy</th>\n",
       "      <th>loudness</th>\n",
       "      <th>speechiness</th>\n",
       "      <th>acousticness</th>\n",
       "      <th>instrumentalness</th>\n",
       "      <th>liveness</th>\n",
       "      <th>valence</th>\n",
       "      <th>tempo</th>\n",
       "      <th>spec_rate</th>\n",
       "      <th>labels</th>\n",
       "    </tr>\n",
       "  </thead>\n",
       "  <tbody>\n",
       "    <tr>\n",
       "      <th>1</th>\n",
       "      <td>1</td>\n",
       "      <td>194641.0</td>\n",
       "      <td>0.638</td>\n",
       "      <td>0.781</td>\n",
       "      <td>-6.848</td>\n",
       "      <td>0.0285</td>\n",
       "      <td>0.0118</td>\n",
       "      <td>0.009530</td>\n",
       "      <td>0.3490</td>\n",
       "      <td>0.250</td>\n",
       "      <td>122.985</td>\n",
       "      <td>1.464234e-07</td>\n",
       "      <td>1</td>\n",
       "    </tr>\n",
       "    <tr>\n",
       "      <th>2</th>\n",
       "      <td>2</td>\n",
       "      <td>217573.0</td>\n",
       "      <td>0.560</td>\n",
       "      <td>0.810</td>\n",
       "      <td>-8.029</td>\n",
       "      <td>0.0872</td>\n",
       "      <td>0.0071</td>\n",
       "      <td>0.000008</td>\n",
       "      <td>0.2410</td>\n",
       "      <td>0.247</td>\n",
       "      <td>170.044</td>\n",
       "      <td>4.007850e-07</td>\n",
       "      <td>1</td>\n",
       "    </tr>\n",
       "    <tr>\n",
       "      <th>3</th>\n",
       "      <td>3</td>\n",
       "      <td>443478.0</td>\n",
       "      <td>0.525</td>\n",
       "      <td>0.699</td>\n",
       "      <td>-4.571</td>\n",
       "      <td>0.0353</td>\n",
       "      <td>0.0178</td>\n",
       "      <td>0.000088</td>\n",
       "      <td>0.0888</td>\n",
       "      <td>0.199</td>\n",
       "      <td>92.011</td>\n",
       "      <td>7.959809e-08</td>\n",
       "      <td>0</td>\n",
       "    </tr>\n",
       "    <tr>\n",
       "      <th>4</th>\n",
       "      <td>4</td>\n",
       "      <td>225862.0</td>\n",
       "      <td>0.367</td>\n",
       "      <td>0.771</td>\n",
       "      <td>-5.863</td>\n",
       "      <td>0.1060</td>\n",
       "      <td>0.3650</td>\n",
       "      <td>0.000001</td>\n",
       "      <td>0.0965</td>\n",
       "      <td>0.163</td>\n",
       "      <td>115.917</td>\n",
       "      <td>4.693131e-07</td>\n",
       "      <td>1</td>\n",
       "    </tr>\n",
       "    <tr>\n",
       "      <th>5</th>\n",
       "      <td>5</td>\n",
       "      <td>166920.0</td>\n",
       "      <td>0.572</td>\n",
       "      <td>0.837</td>\n",
       "      <td>-7.876</td>\n",
       "      <td>0.0367</td>\n",
       "      <td>0.0197</td>\n",
       "      <td>0.000000</td>\n",
       "      <td>0.1630</td>\n",
       "      <td>0.627</td>\n",
       "      <td>100.343</td>\n",
       "      <td>2.198658e-07</td>\n",
       "      <td>1</td>\n",
       "    </tr>\n",
       "  </tbody>\n",
       "</table>\n",
       "</div>"
      ],
      "text/plain": [
       "   Unnamed: 0  duration (ms)  danceability  energy  loudness  speechiness  \\\n",
       "1           1       194641.0         0.638   0.781    -6.848       0.0285   \n",
       "2           2       217573.0         0.560   0.810    -8.029       0.0872   \n",
       "3           3       443478.0         0.525   0.699    -4.571       0.0353   \n",
       "4           4       225862.0         0.367   0.771    -5.863       0.1060   \n",
       "5           5       166920.0         0.572   0.837    -7.876       0.0367   \n",
       "\n",
       "   acousticness  instrumentalness  liveness  valence    tempo     spec_rate  \\\n",
       "1        0.0118          0.009530    0.3490    0.250  122.985  1.464234e-07   \n",
       "2        0.0071          0.000008    0.2410    0.247  170.044  4.007850e-07   \n",
       "3        0.0178          0.000088    0.0888    0.199   92.011  7.959809e-08   \n",
       "4        0.3650          0.000001    0.0965    0.163  115.917  4.693131e-07   \n",
       "5        0.0197          0.000000    0.1630    0.627  100.343  2.198658e-07   \n",
       "\n",
       "   labels  \n",
       "1       1  \n",
       "2       1  \n",
       "3       0  \n",
       "4       1  \n",
       "5       1  "
      ]
     },
     "execution_count": 148,
     "metadata": {},
     "output_type": "execute_result"
    }
   ],
   "source": [
    "# import data set\n",
    "data = pd.read_csv(\"278k_song_labelled.csv\")\n",
    "\n",
    "# filter for songs labelled happy or sad\n",
    "data = data[data['labels'].isin([0,1])]\n",
    "\n",
    "data.head(5)"
   ]
  },
  {
   "cell_type": "code",
   "execution_count": 149,
   "id": "5f7dc581",
   "metadata": {},
   "outputs": [
    {
     "data": {
      "text/plain": [
       "(188487, 13)"
      ]
     },
     "execution_count": 149,
     "metadata": {},
     "output_type": "execute_result"
    }
   ],
   "source": [
    "data.shape"
   ]
  },
  {
   "cell_type": "code",
   "execution_count": 150,
   "id": "e9e342c3",
   "metadata": {},
   "outputs": [],
   "source": [
    "# reduce sample size for computational efficiency\n",
    "df = data.head(10000)"
   ]
  },
  {
   "cell_type": "code",
   "execution_count": 151,
   "id": "aa2379c2",
   "metadata": {},
   "outputs": [
    {
     "name": "stdout",
     "output_type": "stream",
     "text": [
      "<class 'pandas.core.frame.DataFrame'>\n",
      "Int64Index: 10000 entries, 1 to 17101\n",
      "Data columns (total 13 columns):\n",
      " #   Column            Non-Null Count  Dtype  \n",
      "---  ------            --------------  -----  \n",
      " 0   Unnamed: 0        10000 non-null  int64  \n",
      " 1   duration (ms)     10000 non-null  float64\n",
      " 2   danceability      10000 non-null  float64\n",
      " 3   energy            10000 non-null  float64\n",
      " 4   loudness          10000 non-null  float64\n",
      " 5   speechiness       10000 non-null  float64\n",
      " 6   acousticness      10000 non-null  float64\n",
      " 7   instrumentalness  10000 non-null  float64\n",
      " 8   liveness          10000 non-null  float64\n",
      " 9   valence           10000 non-null  float64\n",
      " 10  tempo             10000 non-null  float64\n",
      " 11  spec_rate         10000 non-null  float64\n",
      " 12  labels            10000 non-null  int64  \n",
      "dtypes: float64(11), int64(2)\n",
      "memory usage: 1.1 MB\n"
     ]
    }
   ],
   "source": [
    "df.info()"
   ]
  },
  {
   "cell_type": "markdown",
   "id": "5415f177",
   "metadata": {},
   "source": [
    "Luckily we won't have to do any data cleanup since there aren't any nulls."
   ]
  },
  {
   "cell_type": "code",
   "execution_count": 173,
   "id": "18dc120d",
   "metadata": {},
   "outputs": [
    {
     "data": {
      "text/html": [
       "<div>\n",
       "<style scoped>\n",
       "    .dataframe tbody tr th:only-of-type {\n",
       "        vertical-align: middle;\n",
       "    }\n",
       "\n",
       "    .dataframe tbody tr th {\n",
       "        vertical-align: top;\n",
       "    }\n",
       "\n",
       "    .dataframe thead th {\n",
       "        text-align: right;\n",
       "    }\n",
       "</style>\n",
       "<table border=\"1\" class=\"dataframe\">\n",
       "  <thead>\n",
       "    <tr style=\"text-align: right;\">\n",
       "      <th></th>\n",
       "      <th>Unnamed: 0</th>\n",
       "      <th>duration (ms)</th>\n",
       "      <th>danceability</th>\n",
       "      <th>energy</th>\n",
       "      <th>loudness</th>\n",
       "      <th>speechiness</th>\n",
       "      <th>acousticness</th>\n",
       "      <th>instrumentalness</th>\n",
       "      <th>liveness</th>\n",
       "      <th>valence</th>\n",
       "      <th>tempo</th>\n",
       "      <th>spec_rate</th>\n",
       "      <th>labels</th>\n",
       "    </tr>\n",
       "  </thead>\n",
       "  <tbody>\n",
       "    <tr>\n",
       "      <th>count</th>\n",
       "      <td>10000.000000</td>\n",
       "      <td>1.000000e+04</td>\n",
       "      <td>10000.000000</td>\n",
       "      <td>10000.000000</td>\n",
       "      <td>10000.000000</td>\n",
       "      <td>10000.000000</td>\n",
       "      <td>10000.000000</td>\n",
       "      <td>10000.000000</td>\n",
       "      <td>10000.000000</td>\n",
       "      <td>10000.000000</td>\n",
       "      <td>10000.000000</td>\n",
       "      <td>1.000000e+04</td>\n",
       "      <td>10000.000000</td>\n",
       "    </tr>\n",
       "    <tr>\n",
       "      <th>mean</th>\n",
       "      <td>7595.820600</td>\n",
       "      <td>2.440999e+05</td>\n",
       "      <td>0.587954</td>\n",
       "      <td>0.607066</td>\n",
       "      <td>-8.729075</td>\n",
       "      <td>0.077972</td>\n",
       "      <td>0.279095</td>\n",
       "      <td>0.128623</td>\n",
       "      <td>0.187653</td>\n",
       "      <td>0.495131</td>\n",
       "      <td>119.971940</td>\n",
       "      <td>4.209814e-07</td>\n",
       "      <td>0.574800</td>\n",
       "    </tr>\n",
       "    <tr>\n",
       "      <th>std</th>\n",
       "      <td>5162.917782</td>\n",
       "      <td>1.190996e+05</td>\n",
       "      <td>0.169477</td>\n",
       "      <td>0.201545</td>\n",
       "      <td>3.719429</td>\n",
       "      <td>0.090477</td>\n",
       "      <td>0.286568</td>\n",
       "      <td>0.263438</td>\n",
       "      <td>0.157868</td>\n",
       "      <td>0.256015</td>\n",
       "      <td>27.603242</td>\n",
       "      <td>8.636734e-07</td>\n",
       "      <td>0.494398</td>\n",
       "    </tr>\n",
       "    <tr>\n",
       "      <th>min</th>\n",
       "      <td>1.000000</td>\n",
       "      <td>1.404000e+04</td>\n",
       "      <td>0.000000</td>\n",
       "      <td>0.002840</td>\n",
       "      <td>-42.416000</td>\n",
       "      <td>0.000000</td>\n",
       "      <td>0.000002</td>\n",
       "      <td>0.000000</td>\n",
       "      <td>0.013200</td>\n",
       "      <td>0.000000</td>\n",
       "      <td>0.000000</td>\n",
       "      <td>0.000000e+00</td>\n",
       "      <td>0.000000</td>\n",
       "    </tr>\n",
       "    <tr>\n",
       "      <th>25%</th>\n",
       "      <td>3157.750000</td>\n",
       "      <td>1.836000e+05</td>\n",
       "      <td>0.476000</td>\n",
       "      <td>0.472000</td>\n",
       "      <td>-10.660250</td>\n",
       "      <td>0.032500</td>\n",
       "      <td>0.039175</td>\n",
       "      <td>0.000000</td>\n",
       "      <td>0.095300</td>\n",
       "      <td>0.285000</td>\n",
       "      <td>98.077500</td>\n",
       "      <td>1.293705e-07</td>\n",
       "      <td>0.000000</td>\n",
       "    </tr>\n",
       "    <tr>\n",
       "      <th>50%</th>\n",
       "      <td>6756.500000</td>\n",
       "      <td>2.223200e+05</td>\n",
       "      <td>0.603000</td>\n",
       "      <td>0.630000</td>\n",
       "      <td>-8.078000</td>\n",
       "      <td>0.041300</td>\n",
       "      <td>0.163000</td>\n",
       "      <td>0.000231</td>\n",
       "      <td>0.123000</td>\n",
       "      <td>0.485000</td>\n",
       "      <td>119.947500</td>\n",
       "      <td>1.866806e-07</td>\n",
       "      <td>1.000000</td>\n",
       "    </tr>\n",
       "    <tr>\n",
       "      <th>75%</th>\n",
       "      <td>11540.250000</td>\n",
       "      <td>2.725715e+05</td>\n",
       "      <td>0.711000</td>\n",
       "      <td>0.758000</td>\n",
       "      <td>-6.141750</td>\n",
       "      <td>0.073225</td>\n",
       "      <td>0.463000</td>\n",
       "      <td>0.059200</td>\n",
       "      <td>0.227000</td>\n",
       "      <td>0.708000</td>\n",
       "      <td>137.377250</td>\n",
       "      <td>3.821710e-07</td>\n",
       "      <td>1.000000</td>\n",
       "    </tr>\n",
       "    <tr>\n",
       "      <th>max</th>\n",
       "      <td>17101.000000</td>\n",
       "      <td>3.600000e+06</td>\n",
       "      <td>0.983000</td>\n",
       "      <td>1.000000</td>\n",
       "      <td>1.424000</td>\n",
       "      <td>0.938000</td>\n",
       "      <td>0.996000</td>\n",
       "      <td>1.000000</td>\n",
       "      <td>0.990000</td>\n",
       "      <td>0.992000</td>\n",
       "      <td>217.591000</td>\n",
       "      <td>2.892774e-05</td>\n",
       "      <td>1.000000</td>\n",
       "    </tr>\n",
       "  </tbody>\n",
       "</table>\n",
       "</div>"
      ],
      "text/plain": [
       "         Unnamed: 0  duration (ms)  danceability        energy      loudness  \\\n",
       "count  10000.000000   1.000000e+04  10000.000000  10000.000000  10000.000000   \n",
       "mean    7595.820600   2.440999e+05      0.587954      0.607066     -8.729075   \n",
       "std     5162.917782   1.190996e+05      0.169477      0.201545      3.719429   \n",
       "min        1.000000   1.404000e+04      0.000000      0.002840    -42.416000   \n",
       "25%     3157.750000   1.836000e+05      0.476000      0.472000    -10.660250   \n",
       "50%     6756.500000   2.223200e+05      0.603000      0.630000     -8.078000   \n",
       "75%    11540.250000   2.725715e+05      0.711000      0.758000     -6.141750   \n",
       "max    17101.000000   3.600000e+06      0.983000      1.000000      1.424000   \n",
       "\n",
       "        speechiness  acousticness  instrumentalness      liveness  \\\n",
       "count  10000.000000  10000.000000      10000.000000  10000.000000   \n",
       "mean       0.077972      0.279095          0.128623      0.187653   \n",
       "std        0.090477      0.286568          0.263438      0.157868   \n",
       "min        0.000000      0.000002          0.000000      0.013200   \n",
       "25%        0.032500      0.039175          0.000000      0.095300   \n",
       "50%        0.041300      0.163000          0.000231      0.123000   \n",
       "75%        0.073225      0.463000          0.059200      0.227000   \n",
       "max        0.938000      0.996000          1.000000      0.990000   \n",
       "\n",
       "            valence         tempo     spec_rate        labels  \n",
       "count  10000.000000  10000.000000  1.000000e+04  10000.000000  \n",
       "mean       0.495131    119.971940  4.209814e-07      0.574800  \n",
       "std        0.256015     27.603242  8.636734e-07      0.494398  \n",
       "min        0.000000      0.000000  0.000000e+00      0.000000  \n",
       "25%        0.285000     98.077500  1.293705e-07      0.000000  \n",
       "50%        0.485000    119.947500  1.866806e-07      1.000000  \n",
       "75%        0.708000    137.377250  3.821710e-07      1.000000  \n",
       "max        0.992000    217.591000  2.892774e-05      1.000000  "
      ]
     },
     "execution_count": 173,
     "metadata": {},
     "output_type": "execute_result"
    }
   ],
   "source": [
    "df.describe()"
   ]
  },
  {
   "cell_type": "markdown",
   "id": "e44009ad",
   "metadata": {},
   "source": [
    "## EDA"
   ]
  },
  {
   "cell_type": "code",
   "execution_count": 153,
   "id": "c71456ab",
   "metadata": {},
   "outputs": [],
   "source": [
    "# define feature columns\n",
    "features_col = ['duration (ms)', 'danceability', 'energy', 'loudness',\n",
    "       'speechiness', 'acousticness', 'instrumentalness', 'liveness',\n",
    "       'valence', 'tempo', 'spec_rate']\n",
    "\n",
    "X = df[features_col]\n",
    "# define target column\n",
    "y = df['labels']"
   ]
  },
  {
   "cell_type": "code",
   "execution_count": 154,
   "id": "48c23c0d",
   "metadata": {},
   "outputs": [
    {
     "data": {
      "image/png": "[encoded data removed]",
      "text/plain": [
       "<Figure size 864x648 with 2 Axes>"
      ]
     },
     "metadata": {
      "needs_background": "light"
     },
     "output_type": "display_data"
    }
   ],
   "source": [
    "# create correlation matrix for features\n",
    "correlation_matrix = df.corr(method='spearman')\n",
    "\n",
    "plt.figure(figsize=(12, 9))\n",
    "\n",
    "# plot heatmap\n",
    "sns.heatmap(correlation_matrix, annot=True, cmap='coolwarm', vmin=-1, vmax=1)\n",
    "plt.title(\"Correlation Matrix\")\n",
    "plt.show()"
   ]
  },
  {
   "cell_type": "markdown",
   "id": "a2dc5fa7",
   "metadata": {},
   "source": [
    "There is some correlation between spec_rate and speechiness. "
   ]
  },
  {
   "cell_type": "markdown",
   "id": "6e342a28",
   "metadata": {},
   "source": [
    "## Train & Test"
   ]
  },
  {
   "cell_type": "markdown",
   "id": "ba947e48",
   "metadata": {},
   "source": [
    "### Split data"
   ]
  },
  {
   "cell_type": "code",
   "execution_count": 155,
   "id": "1a78f06c",
   "metadata": {},
   "outputs": [],
   "source": [
    "# split into training and test set - 70-30 split\n",
    "X_train, X_test, y_train, y_test = train_test_split(X, y, test_size = 0.3, random_state = 10)"
   ]
  },
  {
   "cell_type": "code",
   "execution_count": 156,
   "id": "e230b4b1",
   "metadata": {},
   "outputs": [
    {
     "data": {
      "text/plain": [
       "((7000, 11), (3000, 11))"
      ]
     },
     "execution_count": 156,
     "metadata": {},
     "output_type": "execute_result"
    }
   ],
   "source": [
    "X_train.shape, X_test.shape"
   ]
  },
  {
   "cell_type": "markdown",
   "id": "27834725",
   "metadata": {},
   "source": [
    "### Scale"
   ]
  },
  {
   "cell_type": "code",
   "execution_count": 157,
   "id": "0a0d86c2",
   "metadata": {},
   "outputs": [],
   "source": [
    "# normalizes features to the range [0, 1]\n",
    "scaler = MinMaxScaler()\n",
    "\n",
    "X_train = pd.DataFrame(scaler.fit_transform(X_train),columns=[features_col])\n",
    "X_test = pd.DataFrame(scaler.transform(X_test),columns=[features_col])"
   ]
  },
  {
   "cell_type": "markdown",
   "id": "3a7dc33f",
   "metadata": {},
   "source": [
    "### Gaussian Naive Bayes"
   ]
  },
  {
   "cell_type": "code",
   "execution_count": 158,
   "id": "d5ca0b63",
   "metadata": {},
   "outputs": [],
   "source": [
    "# instantiate the model\n",
    "gnb = sklearn.naive_bayes.GaussianNB()\n",
    "\n",
    "# fit the model\n",
    "gnb.fit(X_train, y_train)\n",
    "\n",
    "# predict the results\n",
    "y_pred_gnb = gnb.predict(X_test)"
   ]
  },
  {
   "cell_type": "markdown",
   "id": "7edf0ca4",
   "metadata": {},
   "source": [
    "### Bernoulli Naive Bayes"
   ]
  },
  {
   "cell_type": "code",
   "execution_count": 159,
   "id": "9404033f",
   "metadata": {},
   "outputs": [],
   "source": [
    "# instantiate the model\n",
    "bnb = sklearn.naive_bayes.BernoulliNB()\n",
    "\n",
    "# fit the model\n",
    "bnb.fit(X_train, y_train)\n",
    "\n",
    "# predict the results\n",
    "y_pred_bnb = bnb.predict(X_test)"
   ]
  },
  {
   "cell_type": "markdown",
   "id": "b17c81ed",
   "metadata": {},
   "source": [
    "### Multinomial Naive Bayes"
   ]
  },
  {
   "cell_type": "code",
   "execution_count": 160,
   "id": "fc20f6d4",
   "metadata": {},
   "outputs": [],
   "source": [
    "# instantiate the model\n",
    "mnb = sklearn.naive_bayes.MultinomialNB()\n",
    "\n",
    "# fit the model\n",
    "mnb.fit(X_train, y_train)\n",
    "\n",
    "# predict the results\n",
    "y_pred_mnb = mnb.predict(X_test)"
   ]
  },
  {
   "cell_type": "code",
   "execution_count": 161,
   "id": "5228f196",
   "metadata": {},
   "outputs": [],
   "source": [
    "# store predicted results\n",
    "y_pred = [y_pred_gnb, y_pred_bnb, y_pred_mnb]"
   ]
  },
  {
   "cell_type": "markdown",
   "id": "2d11a4b2",
   "metadata": {},
   "source": [
    "## Evaluation"
   ]
  },
  {
   "cell_type": "markdown",
   "id": "066ebb61",
   "metadata": {},
   "source": [
    "### Accuracy"
   ]
  },
  {
   "cell_type": "code",
   "execution_count": 162,
   "id": "495950d0",
   "metadata": {},
   "outputs": [
    {
     "name": "stdout",
     "output_type": "stream",
     "text": [
      "Gaussian: 0.8553\n",
      "Bernoulli: 0.5663\n",
      "Multinomial: 0.768\n"
     ]
    }
   ],
   "source": [
    "accuracy_scores = []\n",
    "models = ['Gaussian','Bernoulli','Multinomial']\n",
    "\n",
    "# calculate accuracy score fore each model\n",
    "for i, pred in enumerate(y_pred):\n",
    "    score = accuracy_score(y_test, pred)\n",
    "    accuracy_scores.append(score)\n",
    "    print(f'{models[i]}: {round(score,4)}')"
   ]
  },
  {
   "cell_type": "markdown",
   "id": "7441f949",
   "metadata": {},
   "source": [
    "### Null Accuracy"
   ]
  },
  {
   "cell_type": "code",
   "execution_count": 163,
   "id": "b889b7cc",
   "metadata": {},
   "outputs": [
    {
     "data": {
      "text/plain": [
       "1    1759\n",
       "0    1241\n",
       "Name: labels, dtype: int64"
      ]
     },
     "execution_count": 163,
     "metadata": {},
     "output_type": "execute_result"
    }
   ],
   "source": [
    "# check class distribution in test set\n",
    "y_test.value_counts()"
   ]
  },
  {
   "cell_type": "markdown",
   "id": "a1711615",
   "metadata": {},
   "source": [
    "'Happy' is the most frequent category. Calculate null accuracy by dividing count of 'happy' songs by the total."
   ]
  },
  {
   "cell_type": "code",
   "execution_count": 164,
   "id": "7c8dc486",
   "metadata": {},
   "outputs": [
    {
     "name": "stdout",
     "output_type": "stream",
     "text": [
      "Null Accuracy: 0.5863\n"
     ]
    }
   ],
   "source": [
    "null_accuracy = sum(y_test)/len(y_test)\n",
    "print(f'Null Accuracy: {round(null_accuracy,4)}')"
   ]
  },
  {
   "cell_type": "markdown",
   "id": "28ec7430",
   "metadata": {},
   "source": [
    "The Gaussian and Multinomial models have an accuracy score that is higher than the null accuracy, which means they predicted well. The Bernoulli score is about the same."
   ]
  },
  {
   "cell_type": "markdown",
   "id": "c41f172b",
   "metadata": {},
   "source": [
    "### Confusion matrix"
   ]
  },
  {
   "cell_type": "code",
   "execution_count": 165,
   "id": "455630c9",
   "metadata": {},
   "outputs": [
    {
     "data": {
      "image/png": "[encoded data removed]",
      "text/plain": [
       "<Figure size 504x1080 with 6 Axes>"
      ]
     },
     "metadata": {
      "needs_background": "light"
     },
     "output_type": "display_data"
    }
   ],
   "source": [
    "fig, axs = plt.subplots(3, 1, figsize=(7, 15))\n",
    "\n",
    "# calculate accuracy score fore each model\n",
    "for i, pred in enumerate(y_pred):\n",
    "    # build confusion matrix\n",
    "    cm = confusion_matrix(y_test, pred)\n",
    "\n",
    "    # visualize confusion matrix with seaborn heatmap\n",
    "    cm_matrix = pd.DataFrame(data=cm, columns=['Actual Positive:1', 'Actual Negative:0'], \n",
    "                             index=['Predict Positive:1', 'Predict Negative:0'])\n",
    "\n",
    "    sns.heatmap(cm_matrix, annot=True, fmt='d', cmap='YlGnBu', ax=axs[i])\n",
    "    axs[i].set_title(f'{models[i]} Heatmap')\n",
    "    \n",
    "# Adjust layout to prevent overlapping\n",
    "plt.tight_layout()\n",
    "\n",
    "# Show the plot\n",
    "plt.show()"
   ]
  },
  {
   "cell_type": "markdown",
   "id": "1aed02a1",
   "metadata": {},
   "source": [
    "We can see that the Multinomial model had more false positives than the Gaussian - which corraborates the Gaussian's accuracy."
   ]
  },
  {
   "cell_type": "markdown",
   "id": "c06c34a1",
   "metadata": {},
   "source": [
    "### Model Performance"
   ]
  },
  {
   "cell_type": "code",
   "execution_count": 171,
   "id": "5efcd1ea",
   "metadata": {},
   "outputs": [
    {
     "name": "stdout",
     "output_type": "stream",
     "text": [
      "Gaussian:\n",
      "               precision    recall  f1-score   support\n",
      "\n",
      "           0       0.82      0.84      0.83      1241\n",
      "           1       0.88      0.87      0.88      1759\n",
      "\n",
      "    accuracy                           0.86      3000\n",
      "   macro avg       0.85      0.85      0.85      3000\n",
      "weighted avg       0.86      0.86      0.86      3000\n",
      "\n",
      "Bernoulli:\n",
      "               precision    recall  f1-score   support\n",
      "\n",
      "           0       0.49      0.85      0.62      1241\n",
      "           1       0.78      0.36      0.50      1759\n",
      "\n",
      "    accuracy                           0.57      3000\n",
      "   macro avg       0.63      0.61      0.56      3000\n",
      "weighted avg       0.66      0.57      0.55      3000\n",
      "\n",
      "Multinomial:\n",
      "               precision    recall  f1-score   support\n",
      "\n",
      "           0       0.88      0.51      0.65      1241\n",
      "           1       0.73      0.95      0.83      1759\n",
      "\n",
      "    accuracy                           0.77      3000\n",
      "   macro avg       0.81      0.73      0.74      3000\n",
      "weighted avg       0.79      0.77      0.75      3000\n",
      "\n"
     ]
    }
   ],
   "source": [
    "# create classification report to evaluate model performance\n",
    "for i, pred in enumerate(y_pred):\n",
    "    print(f'{models[i]}:\\n {classification_report(y_test, pred)}')"
   ]
  },
  {
   "cell_type": "markdown",
   "id": "692247ff",
   "metadata": {},
   "source": [
    "Precision = TP / (TP + FP) = percentage of correctly predicted positives out of true and false positives \\\n",
    "Recall (Sensitivity) = TP / (TP + FN) = percentage of correclty predicted positives out of actual positives \\"
   ]
  },
  {
   "cell_type": "markdown",
   "id": "50dd379d",
   "metadata": {},
   "source": [
    "### k-fold Cross Validation"
   ]
  },
  {
   "cell_type": "code",
   "execution_count": 167,
   "id": "03d67827",
   "metadata": {},
   "outputs": [
    {
     "name": "stdout",
     "output_type": "stream",
     "text": [
      "Gaussian Avg CV Score: 0.8439;  Gaussian Var CV Score: 0.0001\n",
      "Bernoulli Avg CV Score: 0.5739;  Bernoulli Var CV Score: 0.0002\n",
      "Multinomial Avg CV Score: 0.7446;  Multinomial Var CV Score: 0.0001\n"
     ]
    }
   ],
   "source": [
    "cv_scores = []\n",
    "models = ['Gaussian','Bernoulli','Multinomial']\n",
    "model_bayes = [gnb, bnb, mnb]\n",
    "\n",
    "# Apply 10-Fold Cross Validation for each model\n",
    "for i, bayes in enumerate(model_bayes):\n",
    "    scores = cross_val_score(bayes, X_train, y_train, cv = 10, scoring='accuracy')\n",
    "    \n",
    "    # calculate average cross-validation score\n",
    "    avg_ck = scores.mean()\n",
    "    cv_scores.append(avg_ck)\n",
    "    \n",
    "    # calculate sample variance\n",
    "    var_ck = np.var(scores)\n",
    "    \n",
    "    print(f'{models[i]} Avg CV Score: {round(avg_ck,4)}; ', \n",
    "          f'{models[i]} Var CV Score: {round(var_ck,4)}')"
   ]
  },
  {
   "cell_type": "markdown",
   "id": "fce96215",
   "metadata": {},
   "source": [
    "The cross validation score shows how accurate the model is on average. The cross-validation score is about the same for the Gaussian as it is for the original. However, the ck-score is lower for the Bernoulli and Multinomial models, which suggests that on average they do not perform as well as the original.\n",
    "\n",
    "In addition, the sample variance for the CV scores is fairly low which suggests that the scores are relatively consistent. "
   ]
  },
  {
   "cell_type": "code",
   "execution_count": null,
   "id": "a7ec0bff",
   "metadata": {},
   "outputs": [],
   "source": []
  }
 ],
 "metadata": {
  "kernelspec": {
   "display_name": "Python 3 (ipykernel)",
   "language": "python",
   "name": "python3"
  },
  "language_info": {
   "codemirror_mode": {
    "name": "ipython",
    "version": 3
   },
   "file_extension": ".py",
   "mimetype": "text/x-python",
   "name": "python",
   "nbconvert_exporter": "python",
   "pygments_lexer": "ipython3",
   "version": "3.9.7"
  }
 },
 "nbformat": 4,
 "nbformat_minor": 5
}
